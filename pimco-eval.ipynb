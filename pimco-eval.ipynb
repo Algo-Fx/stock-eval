{
 "cells": [
  {
   "cell_type": "code",
   "execution_count": 1,
   "metadata": {
    "collapsed": true
   },
   "outputs": [],
   "source": [
    "import pandas_datareader.data as web\n",
    "import datetime\n",
    "import pandas as pd\n",
    "import matplotlib.pyplot as plt\n",
    "from matplotlib import style\n",
    "from itertools import zip_longest\n",
    "from matplotlib.dates import MonthLocator, WeekdayLocator, DateFormatter\n",
    "from matplotlib.dates import MONDAY\n",
    "#style.use('fivethirtyeight')"
   ]
  },
  {
   "cell_type": "code",
   "execution_count": 2,
   "metadata": {
    "collapsed": false
   },
   "outputs": [],
   "source": [
    "def grouper(n, iterable, fillvalue=None):\n",
    "    \"grouper(3, 'ABCDEFG', 'x') --> ABC DEF Gxx\"\n",
    "    args = [iter(iterable)] * n\n",
    "    return zip_longest(fillvalue=fillvalue, *args)"
   ]
  },
  {
   "cell_type": "code",
   "execution_count": 3,
   "metadata": {
    "collapsed": true
   },
   "outputs": [],
   "source": [
    "start = datetime.datetime(2011, 1, 1)\n",
    "end = datetime.datetime(2016, 3, 3)"
   ]
  },
  {
   "cell_type": "code",
   "execution_count": 4,
   "metadata": {
    "collapsed": true
   },
   "outputs": [],
   "source": [
    "symbols = pd.read_csv(\"./PIMCO Funds.csv\", header=None)"
   ]
  },
  {
   "cell_type": "code",
   "execution_count": 8,
   "metadata": {
    "collapsed": true
   },
   "outputs": [],
   "source": [
    "price_close_data = pd.DataFrame()"
   ]
  },
  {
   "cell_type": "code",
   "execution_count": 9,
   "metadata": {
    "collapsed": false
   },
   "outputs": [
    {
     "name": "stdout",
     "output_type": "stream",
     "text": [
      "PCCNX not readable----------------<\n",
      "AMGXX not readable----------------<\n",
      "PKCXX not readable----------------<\n"
     ]
    }
   ],
   "source": [
    "for index, row in symbols.iterrows():\n",
    "    symbol = row[1]\n",
    "    try:\n",
    "        close_price = web.DataReader(symbol, 'yahoo', start, end)['Close']\n",
    "        price_close_data[symbol] = close_price\n",
    "    except:   \n",
    "        print(symbol, \"not readable----------------<\")\n"
   ]
  },
  {
   "cell_type": "code",
   "execution_count": 10,
   "metadata": {
    "collapsed": false
   },
   "outputs": [
    {
     "data": {
      "text/html": [
       "<div>\n",
       "<table border=\"1\" class=\"dataframe\">\n",
       "  <thead>\n",
       "    <tr style=\"text-align: right;\">\n",
       "      <th></th>\n",
       "      <th>PASCX</th>\n",
       "      <th>PCFCX</th>\n",
       "      <th>PCSCX</th>\n",
       "      <th>PCTGX</th>\n",
       "      <th>PFCNX</th>\n",
       "      <th>PCPCX</th>\n",
       "      <th>PCRCX</th>\n",
       "      <th>PCCRX</th>\n",
       "      <th>PDICX</th>\n",
       "      <th>PFSIX</th>\n",
       "      <th>...</th>\n",
       "      <th>PSPAX</th>\n",
       "      <th>PSOCX</th>\n",
       "      <th>PPUCX</th>\n",
       "      <th>PIPCX</th>\n",
       "      <th>PSSCX</th>\n",
       "      <th>PCKCX</th>\n",
       "      <th>PTUCX</th>\n",
       "      <th>PQTCX</th>\n",
       "      <th>PUBCX</th>\n",
       "      <th>ATMCX</th>\n",
       "    </tr>\n",
       "    <tr>\n",
       "      <th>Date</th>\n",
       "      <th></th>\n",
       "      <th></th>\n",
       "      <th></th>\n",
       "      <th></th>\n",
       "      <th></th>\n",
       "      <th></th>\n",
       "      <th></th>\n",
       "      <th></th>\n",
       "      <th></th>\n",
       "      <th></th>\n",
       "      <th></th>\n",
       "      <th></th>\n",
       "      <th></th>\n",
       "      <th></th>\n",
       "      <th></th>\n",
       "      <th></th>\n",
       "      <th></th>\n",
       "      <th></th>\n",
       "      <th></th>\n",
       "      <th></th>\n",
       "      <th></th>\n",
       "    </tr>\n",
       "  </thead>\n",
       "  <tbody>\n",
       "    <tr>\n",
       "      <th>2016-02-26</th>\n",
       "      <td>9.98</td>\n",
       "      <td>9.98</td>\n",
       "      <td>9.97</td>\n",
       "      <td>10.72</td>\n",
       "      <td>9.23</td>\n",
       "      <td>4.75</td>\n",
       "      <td>5.64</td>\n",
       "      <td>9.06</td>\n",
       "      <td>9.88</td>\n",
       "      <td>6.84</td>\n",
       "      <td>...</td>\n",
       "      <td>7.51</td>\n",
       "      <td>7.67</td>\n",
       "      <td>4.70</td>\n",
       "      <td>5.63</td>\n",
       "      <td>10.36</td>\n",
       "      <td>6.42</td>\n",
       "      <td>10.20</td>\n",
       "      <td>9.95</td>\n",
       "      <td>9.96</td>\n",
       "      <td>9.70</td>\n",
       "    </tr>\n",
       "    <tr>\n",
       "      <th>2016-02-29</th>\n",
       "      <td>10.01</td>\n",
       "      <td>9.98</td>\n",
       "      <td>9.97</td>\n",
       "      <td>10.72</td>\n",
       "      <td>9.24</td>\n",
       "      <td>4.75</td>\n",
       "      <td>5.68</td>\n",
       "      <td>9.07</td>\n",
       "      <td>9.91</td>\n",
       "      <td>6.87</td>\n",
       "      <td>...</td>\n",
       "      <td>7.45</td>\n",
       "      <td>7.63</td>\n",
       "      <td>4.71</td>\n",
       "      <td>5.64</td>\n",
       "      <td>10.46</td>\n",
       "      <td>6.41</td>\n",
       "      <td>10.22</td>\n",
       "      <td>9.99</td>\n",
       "      <td>9.98</td>\n",
       "      <td>9.71</td>\n",
       "    </tr>\n",
       "    <tr>\n",
       "      <th>2016-03-01</th>\n",
       "      <td>10.10</td>\n",
       "      <td>9.97</td>\n",
       "      <td>9.96</td>\n",
       "      <td>10.70</td>\n",
       "      <td>9.29</td>\n",
       "      <td>4.83</td>\n",
       "      <td>5.68</td>\n",
       "      <td>9.10</td>\n",
       "      <td>9.95</td>\n",
       "      <td>6.93</td>\n",
       "      <td>...</td>\n",
       "      <td>7.45</td>\n",
       "      <td>7.83</td>\n",
       "      <td>4.76</td>\n",
       "      <td>5.72</td>\n",
       "      <td>10.22</td>\n",
       "      <td>6.55</td>\n",
       "      <td>10.19</td>\n",
       "      <td>9.81</td>\n",
       "      <td>10.02</td>\n",
       "      <td>9.77</td>\n",
       "    </tr>\n",
       "    <tr>\n",
       "      <th>2016-03-02</th>\n",
       "      <td>10.18</td>\n",
       "      <td>9.96</td>\n",
       "      <td>9.96</td>\n",
       "      <td>10.70</td>\n",
       "      <td>9.29</td>\n",
       "      <td>4.86</td>\n",
       "      <td>5.70</td>\n",
       "      <td>9.10</td>\n",
       "      <td>9.99</td>\n",
       "      <td>6.97</td>\n",
       "      <td>...</td>\n",
       "      <td>7.66</td>\n",
       "      <td>7.87</td>\n",
       "      <td>4.76</td>\n",
       "      <td>5.72</td>\n",
       "      <td>10.19</td>\n",
       "      <td>6.63</td>\n",
       "      <td>10.21</td>\n",
       "      <td>9.71</td>\n",
       "      <td>10.05</td>\n",
       "      <td>9.78</td>\n",
       "    </tr>\n",
       "    <tr>\n",
       "      <th>2016-03-03</th>\n",
       "      <td>10.25</td>\n",
       "      <td>9.95</td>\n",
       "      <td>9.96</td>\n",
       "      <td>10.69</td>\n",
       "      <td>9.36</td>\n",
       "      <td>4.92</td>\n",
       "      <td>5.78</td>\n",
       "      <td>9.11</td>\n",
       "      <td>10.01</td>\n",
       "      <td>7.00</td>\n",
       "      <td>...</td>\n",
       "      <td>7.69</td>\n",
       "      <td>7.91</td>\n",
       "      <td>4.84</td>\n",
       "      <td>5.82</td>\n",
       "      <td>10.17</td>\n",
       "      <td>6.70</td>\n",
       "      <td>10.22</td>\n",
       "      <td>9.71</td>\n",
       "      <td>10.05</td>\n",
       "      <td>9.78</td>\n",
       "    </tr>\n",
       "  </tbody>\n",
       "</table>\n",
       "<p>5 rows × 69 columns</p>\n",
       "</div>"
      ],
      "text/plain": [
       "            PASCX  PCFCX  PCSCX  PCTGX  PFCNX  PCPCX  PCRCX  PCCRX  PDICX  \\\n",
       "Date                                                                        \n",
       "2016-02-26   9.98   9.98   9.97  10.72   9.23   4.75   5.64   9.06   9.88   \n",
       "2016-02-29  10.01   9.98   9.97  10.72   9.24   4.75   5.68   9.07   9.91   \n",
       "2016-03-01  10.10   9.97   9.96  10.70   9.29   4.83   5.68   9.10   9.95   \n",
       "2016-03-02  10.18   9.96   9.96  10.70   9.29   4.86   5.70   9.10   9.99   \n",
       "2016-03-03  10.25   9.95   9.96  10.69   9.36   4.92   5.78   9.11  10.01   \n",
       "\n",
       "            PFSIX  ...    PSPAX  PSOCX  PPUCX  PIPCX  PSSCX  PCKCX  PTUCX  \\\n",
       "Date               ...                                                      \n",
       "2016-02-26   6.84  ...     7.51   7.67   4.70   5.63  10.36   6.42  10.20   \n",
       "2016-02-29   6.87  ...     7.45   7.63   4.71   5.64  10.46   6.41  10.22   \n",
       "2016-03-01   6.93  ...     7.45   7.83   4.76   5.72  10.22   6.55  10.19   \n",
       "2016-03-02   6.97  ...     7.66   7.87   4.76   5.72  10.19   6.63  10.21   \n",
       "2016-03-03   7.00  ...     7.69   7.91   4.84   5.82  10.17   6.70  10.22   \n",
       "\n",
       "            PQTCX  PUBCX  ATMCX  \n",
       "Date                             \n",
       "2016-02-26   9.95   9.96   9.70  \n",
       "2016-02-29   9.99   9.98   9.71  \n",
       "2016-03-01   9.81  10.02   9.77  \n",
       "2016-03-02   9.71  10.05   9.78  \n",
       "2016-03-03   9.71  10.05   9.78  \n",
       "\n",
       "[5 rows x 69 columns]"
      ]
     },
     "execution_count": 10,
     "metadata": {},
     "output_type": "execute_result"
    }
   ],
   "source": [
    "price_close_data.tail()"
   ]
  },
  {
   "cell_type": "code",
   "execution_count": 11,
   "metadata": {
    "collapsed": true
   },
   "outputs": [],
   "source": [
    "col = price_close_data.columns.values"
   ]
  },
  {
   "cell_type": "code",
   "execution_count": 30,
   "metadata": {
    "collapsed": false
   },
   "outputs": [],
   "source": [
    "#plots all data on 14 sub plots\n",
    "plt.figure(1)\n",
    "sub = 1\n",
    "for item1, item2 , item3, item4, item5 in grouper(5, col):\n",
    "    #print(item1, item2, item3, item4, item5)\n",
    "    plt.subplot(2, 7, sub)\n",
    "    for item in [item1, item2 , item3, item4, item5]:  \n",
    "        if item in price_close_data.columns:\n",
    "            price_close_data[item].plot(label=item)\n",
    "    sub += 1\n",
    "plt.show()"
   ]
  },
  {
   "cell_type": "code",
   "execution_count": 31,
   "metadata": {
    "collapsed": false
   },
   "outputs": [],
   "source": [
    "sets = pd.DataFrame()\n",
    "count = 1\n",
    "for item1, item2 , item3, item4, item5 in grouper(5, col):\n",
    "    sets['Set ' + str(count)] = [item1, item2 , item3, item4, item5]\n",
    "    count += 1"
   ]
  },
  {
   "cell_type": "code",
   "execution_count": 32,
   "metadata": {
    "collapsed": false
   },
   "outputs": [
    {
     "data": {
      "text/html": [
       "<div>\n",
       "<table border=\"1\" class=\"dataframe\">\n",
       "  <thead>\n",
       "    <tr style=\"text-align: right;\">\n",
       "      <th></th>\n",
       "      <th>Set 1</th>\n",
       "      <th>Set 2</th>\n",
       "      <th>Set 3</th>\n",
       "      <th>Set 4</th>\n",
       "      <th>Set 5</th>\n",
       "      <th>Set 6</th>\n",
       "      <th>Set 7</th>\n",
       "      <th>Set 8</th>\n",
       "      <th>Set 9</th>\n",
       "      <th>Set 10</th>\n",
       "      <th>Set 11</th>\n",
       "      <th>Set 12</th>\n",
       "      <th>Set 13</th>\n",
       "      <th>Set 14</th>\n",
       "    </tr>\n",
       "  </thead>\n",
       "  <tbody>\n",
       "    <tr>\n",
       "      <th>0</th>\n",
       "      <td>PASCX</td>\n",
       "      <td>PCPCX</td>\n",
       "      <td>PELCX</td>\n",
       "      <td>PFRCX</td>\n",
       "      <td>PGMCX</td>\n",
       "      <td>PCRMX</td>\n",
       "      <td>PMRCX</td>\n",
       "      <td>PTFAX</td>\n",
       "      <td>PCFAX</td>\n",
       "      <td>PWLCX</td>\n",
       "      <td>PEHCX</td>\n",
       "      <td>PQRCX</td>\n",
       "      <td>PSOCX</td>\n",
       "      <td>PTUCX</td>\n",
       "    </tr>\n",
       "    <tr>\n",
       "      <th>1</th>\n",
       "      <td>PCFCX</td>\n",
       "      <td>PCRCX</td>\n",
       "      <td>PEBCX</td>\n",
       "      <td>PFOCX</td>\n",
       "      <td>PCGNX</td>\n",
       "      <td>PBDCX</td>\n",
       "      <td>PXACX</td>\n",
       "      <td>PTRCX</td>\n",
       "      <td>PLVQX</td>\n",
       "      <td>PRTCX</td>\n",
       "      <td>PIVWX</td>\n",
       "      <td>PSRWX</td>\n",
       "      <td>PPUCX</td>\n",
       "      <td>PQTCX</td>\n",
       "    </tr>\n",
       "    <tr>\n",
       "      <th>2</th>\n",
       "      <td>PCSCX</td>\n",
       "      <td>PCCRX</td>\n",
       "      <td>PECCX</td>\n",
       "      <td>PAFCX</td>\n",
       "      <td>PHDCX</td>\n",
       "      <td>PFGCX</td>\n",
       "      <td>PMLCX</td>\n",
       "      <td>PIXCX</td>\n",
       "      <td>POLVX</td>\n",
       "      <td>PTNCX</td>\n",
       "      <td>POFCX</td>\n",
       "      <td>PSDCX</td>\n",
       "      <td>PIPCX</td>\n",
       "      <td>PUBCX</td>\n",
       "    </tr>\n",
       "    <tr>\n",
       "      <th>3</th>\n",
       "      <td>PCTGX</td>\n",
       "      <td>PDICX</td>\n",
       "      <td>PLMCX</td>\n",
       "      <td>PCIIX</td>\n",
       "      <td>PYMCX</td>\n",
       "      <td>PTLCX</td>\n",
       "      <td>PMNNX</td>\n",
       "      <td>PEFCX</td>\n",
       "      <td>PLVOX</td>\n",
       "      <td>PTYCX</td>\n",
       "      <td>PFZCX</td>\n",
       "      <td>PFTCX</td>\n",
       "      <td>PSSCX</td>\n",
       "      <td>ATMCX</td>\n",
       "    </tr>\n",
       "    <tr>\n",
       "      <th>4</th>\n",
       "      <td>PFCNX</td>\n",
       "      <td>PFSIX</td>\n",
       "      <td>PFNCX</td>\n",
       "      <td>PGMAX</td>\n",
       "      <td>PHSCX</td>\n",
       "      <td>PMZCX</td>\n",
       "      <td>PBFCX</td>\n",
       "      <td>PTSKX</td>\n",
       "      <td>PWWCX</td>\n",
       "      <td>PENWX</td>\n",
       "      <td>PFYCX</td>\n",
       "      <td>PSPAX</td>\n",
       "      <td>PCKCX</td>\n",
       "      <td>None</td>\n",
       "    </tr>\n",
       "  </tbody>\n",
       "</table>\n",
       "</div>"
      ],
      "text/plain": [
       "   Set 1  Set 2  Set 3  Set 4  Set 5  Set 6  Set 7  Set 8  Set 9 Set 10  \\\n",
       "0  PASCX  PCPCX  PELCX  PFRCX  PGMCX  PCRMX  PMRCX  PTFAX  PCFAX  PWLCX   \n",
       "1  PCFCX  PCRCX  PEBCX  PFOCX  PCGNX  PBDCX  PXACX  PTRCX  PLVQX  PRTCX   \n",
       "2  PCSCX  PCCRX  PECCX  PAFCX  PHDCX  PFGCX  PMLCX  PIXCX  POLVX  PTNCX   \n",
       "3  PCTGX  PDICX  PLMCX  PCIIX  PYMCX  PTLCX  PMNNX  PEFCX  PLVOX  PTYCX   \n",
       "4  PFCNX  PFSIX  PFNCX  PGMAX  PHSCX  PMZCX  PBFCX  PTSKX  PWWCX  PENWX   \n",
       "\n",
       "  Set 11 Set 12 Set 13 Set 14  \n",
       "0  PEHCX  PQRCX  PSOCX  PTUCX  \n",
       "1  PIVWX  PSRWX  PPUCX  PQTCX  \n",
       "2  POFCX  PSDCX  PIPCX  PUBCX  \n",
       "3  PFZCX  PFTCX  PSSCX  ATMCX  \n",
       "4  PFYCX  PSPAX  PCKCX   None  "
      ]
     },
     "execution_count": 32,
     "metadata": {},
     "output_type": "execute_result"
    }
   ],
   "source": [
    "sets"
   ]
  },
  {
   "cell_type": "code",
   "execution_count": 34,
   "metadata": {
    "collapsed": false
   },
   "outputs": [],
   "source": [
    "title = 'Set 14'\n",
    "for sym in sets[title]:\n",
    "    if sym in price_close_data.columns:\n",
    "        price_close_data[sym].plot(label=sym)\n",
    "        \n",
    "plt.legend(loc=2)\n",
    "plt.title(title)\n",
    "plt.show()"
   ]
  },
  {
   "cell_type": "code",
   "execution_count": 35,
   "metadata": {
    "collapsed": false
   },
   "outputs": [],
   "source": [
    "growing_symbols = ['PCTGX', 'PCFCX', 'PBFCX', 'PMNNX', 'PMLCX']\n",
    "\n",
    "\n",
    "everymonth = MonthLocator(range(1, 13), bymonthday=1, interval=1)\n",
    "months = MonthLocator(range(1, 13), bymonthday=1, interval=3)\n",
    "monthsFmt = DateFormatter(\"%b '%y\")\n",
    "\n",
    "\n",
    "fig, ax = plt.subplots()\n",
    "fig.autofmt_xdate()\n",
    "for symbol in growing_symbols:\n",
    "    ax.plot_date(data.index, data[symbol], '-')\n",
    "\n",
    "ax.xaxis.set_major_locator(months)\n",
    "ax.xaxis.set_major_formatter(monthsFmt)\n",
    "ax.xaxis.set_minor_locator(everymonth)\n",
    "ax.autoscale_view()\n",
    "ax.grid(True)\n",
    "ax.grid(axis='x', which='major', color='black', linestyle='-')\n",
    "ax.grid(which='minor', color='black')\n",
    "plot_start = datetime.datetime(2014, 1, 1)\n",
    "plot_end = datetime.datetime(2016, 3, 3)\n",
    "plt.xlim([plot_start, plot_end])\n",
    "\n",
    "plt.legend(loc=2)\n",
    "\n",
    "plt.show()"
   ]
  },
  {
   "cell_type": "code",
   "execution_count": null,
   "metadata": {
    "collapsed": true
   },
   "outputs": [],
   "source": [
    "?ax.grid"
   ]
  },
  {
   "cell_type": "code",
   "execution_count": null,
   "metadata": {
    "collapsed": true
   },
   "outputs": [],
   "source": []
  }
 ],
 "metadata": {
  "kernelspec": {
   "display_name": "Python 3",
   "language": "python",
   "name": "python3"
  },
  "language_info": {
   "codemirror_mode": {
    "name": "ipython",
    "version": 3
   },
   "file_extension": ".py",
   "mimetype": "text/x-python",
   "name": "python",
   "nbconvert_exporter": "python",
   "pygments_lexer": "ipython3",
   "version": "3.5.1"
  }
 },
 "nbformat": 4,
 "nbformat_minor": 0
}
